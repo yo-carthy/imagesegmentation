{
  "nbformat": 4,
  "nbformat_minor": 0,
  "metadata": {
    "colab": {
      "name": "sugarcane_image_tiling.ipynb",
      "provenance": [],
      "toc_visible": true,
      "include_colab_link": true
    },
    "kernelspec": {
      "name": "python3",
      "display_name": "Python 3"
    },
    "accelerator": "GPU"
  },
  "cells": [
    {
      "cell_type": "markdown",
      "metadata": {
        "id": "view-in-github",
        "colab_type": "text"
      },
      "source": [
        "<a href=\"https://colab.research.google.com/github/yo-carthy/sugarcaneimageprocessing/blob/master/sugarcane_image_tiling.ipynb\" target=\"_parent\"><img src=\"https://colab.research.google.com/assets/colab-badge.svg\" alt=\"Open In Colab\"/></a>"
      ]
    },
    {
      "cell_type": "markdown",
      "metadata": {
        "id": "MHEKk2aCexgv",
        "colab_type": "text"
      },
      "source": [
        "### Tiling Images"
      ]
    },
    {
      "cell_type": "markdown",
      "metadata": {
        "id": "QH_jRGl3WdAL",
        "colab_type": "text"
      },
      "source": [
        "#### Install dependencies"
      ]
    },
    {
      "cell_type": "code",
      "metadata": {
        "id": "UhX_rWomWli0",
        "colab_type": "code",
        "outputId": "44f96db1-07b3-497b-f3b6-a5263bf646b0",
        "colab": {
          "base_uri": "https://localhost:8080/",
          "height": 115
        }
      },
      "source": [
        "!pip install image_slicer"
      ],
      "execution_count": 0,
      "outputs": [
        {
          "output_type": "stream",
          "text": [
            "Collecting image_slicer\n",
            "  Downloading https://files.pythonhosted.org/packages/d6/1e/6afd4b8c88f888fb7b909b02c102709c413d0dd1ed9047914002b87bc6b9/image_slicer-0.3.0-py3-none-any.whl\n",
            "Requirement already satisfied: Pillow>=4.0.0 in /usr/local/lib/python3.6/dist-packages (from image_slicer) (4.3.0)\n",
            "Requirement already satisfied: olefile in /usr/local/lib/python3.6/dist-packages (from Pillow>=4.0.0->image_slicer) (0.46)\n",
            "Installing collected packages: image-slicer\n",
            "Successfully installed image-slicer-0.3.0\n"
          ],
          "name": "stdout"
        }
      ]
    },
    {
      "cell_type": "markdown",
      "metadata": {
        "id": "oPAvZzBFWgDz",
        "colab_type": "text"
      },
      "source": [
        "#### Run image slicer"
      ]
    },
    {
      "cell_type": "code",
      "metadata": {
        "id": "RHdqFg7bWHIT",
        "colab_type": "code",
        "outputId": "e2458195-12e3-49fd-8466-01e4ca6faa96",
        "colab": {
          "base_uri": "https://localhost:8080/",
          "height": 293
        }
      },
      "source": [
        "# UPLOAD IMAGE FROM LOCAL COMPUTER AND CREATE FOLDER CALLED tiled_images\n",
        "%cd /content\n",
        "\n",
        "import image_slicer\n",
        "from PIL import ImageFile\n",
        "# ImageFile.LOAD_TRUNCATED_IMAGES = True\n",
        "\n",
        "image_slicer.slice('DJI_0094.JPG', 16)"
      ],
      "execution_count": 0,
      "outputs": [
        {
          "output_type": "stream",
          "text": [
            "/content\n"
          ],
          "name": "stdout"
        },
        {
          "output_type": "execute_result",
          "data": {
            "text/plain": [
              "(<Tile #1 - DJI_0094_01_01.png>,\n",
              " <Tile #2 - DJI_0094_01_02.png>,\n",
              " <Tile #3 - DJI_0094_01_03.png>,\n",
              " <Tile #4 - DJI_0094_01_04.png>,\n",
              " <Tile #5 - DJI_0094_02_01.png>,\n",
              " <Tile #6 - DJI_0094_02_02.png>,\n",
              " <Tile #7 - DJI_0094_02_03.png>,\n",
              " <Tile #8 - DJI_0094_02_04.png>,\n",
              " <Tile #9 - DJI_0094_03_01.png>,\n",
              " <Tile #10 - DJI_0094_03_02.png>,\n",
              " <Tile #11 - DJI_0094_03_03.png>,\n",
              " <Tile #12 - DJI_0094_03_04.png>,\n",
              " <Tile #13 - DJI_0094_04_01.png>,\n",
              " <Tile #14 - DJI_0094_04_02.png>,\n",
              " <Tile #15 - DJI_0094_04_03.png>,\n",
              " <Tile #16 - DJI_0094_04_04.png>)"
            ]
          },
          "metadata": {
            "tags": []
          },
          "execution_count": 2
        }
      ]
    },
    {
      "cell_type": "markdown",
      "metadata": {
        "id": "unUBGhFfYhno",
        "colab_type": "text"
      },
      "source": [
        "#### Zip folder of images"
      ]
    },
    {
      "cell_type": "code",
      "metadata": {
        "id": "TU1ElrfFdLw8",
        "colab_type": "code",
        "outputId": "56544792-dcf8-40ba-cff0-fd428b331e5c",
        "colab": {
          "base_uri": "https://localhost:8080/",
          "height": 326
        }
      },
      "source": [
        "!zip -r /content/file.zip /content/tiled_images\n",
        "\n",
        "# DOWNLOAD THE ZIPPED FILE AFTER RUNNING THIS"
      ],
      "execution_count": 0,
      "outputs": [
        {
          "output_type": "stream",
          "text": [
            "shell-init: error retrieving current directory: getcwd: cannot access parent directories: No such file or directory\n",
            "  adding: content/tiled_images/ (stored 0%)\n",
            "  adding: content/tiled_images/DJI_0022_04_04.png (deflated 1%)\n",
            "  adding: content/tiled_images/DJI_0022_04_02.png (deflated 1%)\n",
            "  adding: content/tiled_images/DJI_0022_03_01.png (deflated 0%)\n",
            "  adding: content/tiled_images/DJI_0022_02_01.png (deflated 0%)\n",
            "  adding: content/tiled_images/DJI_0022_03_03.png (deflated 1%)\n",
            "  adding: content/tiled_images/DJI_0022_04_03.png (deflated 1%)\n",
            "  adding: content/tiled_images/DJI_0022_03_02.png (deflated 1%)\n",
            "  adding: content/tiled_images/DJI_0022.JPG (deflated 1%)\n",
            "  adding: content/tiled_images/DJI_0022_04_01.png (deflated 1%)\n",
            "  adding: content/tiled_images/DJI_0022_01_01.png (deflated 0%)\n",
            "  adding: content/tiled_images/DJI_0022_02_02.png (deflated 1%)\n",
            "  adding: content/tiled_images/DJI_0022_01_02.png (deflated 1%)\n",
            "  adding: content/tiled_images/DJI_0022_03_04.png (deflated 0%)\n",
            "  adding: content/tiled_images/DJI_0022_02_04.png (deflated 0%)\n",
            "  adding: content/tiled_images/DJI_0022_02_03.png (deflated 1%)\n",
            "  adding: content/tiled_images/DJI_0022_01_04.png (deflated 0%)\n",
            "  adding: content/tiled_images/DJI_0022_01_03.png (deflated 1%)\n"
          ],
          "name": "stdout"
        }
      ]
    },
    {
      "cell_type": "markdown",
      "metadata": {
        "id": "KI2sTd3Ze6Sn",
        "colab_type": "text"
      },
      "source": [
        "### HSV Images"
      ]
    },
    {
      "cell_type": "markdown",
      "metadata": {
        "id": "F8oh6IzKhtug",
        "colab_type": "text"
      },
      "source": [
        "#### Write images into hsv"
      ]
    },
    {
      "cell_type": "code",
      "metadata": {
        "id": "M3tvmgLVfUTR",
        "colab_type": "code",
        "colab": {}
      },
      "source": [
        "import cv2\n",
        "import glob\n",
        "\n",
        "#apply filter to all images in folder\n",
        "path = \"/content/*.*\"\n",
        "for number,image in enumerate(glob.glob(path),1):\n",
        "\t# print(number,image)\n",
        "  img1 = cv2.imread(image)\n",
        "  hsv1 = cv2.cvtColor(img1, cv2.COLOR_RGB2HSV)\n",
        "  h,s,v = cv2.split(hsv1)\n",
        "  s_path = \"/content/s_test_tile_images/\"\n",
        "  cv2.imwrite(s_path + \"DJI_0094_tile{}.png\".format(number), s)\n",
        "  cv2.waitKey(1000)\n",
        "  cv2.destroyAllWindows()\n"
      ],
      "execution_count": 0,
      "outputs": []
    },
    {
      "cell_type": "markdown",
      "metadata": {
        "id": "abNYbdXKmnVG",
        "colab_type": "text"
      },
      "source": [
        "#### Zip images hsv"
      ]
    },
    {
      "cell_type": "code",
      "metadata": {
        "id": "-H6bWh87mqaD",
        "colab_type": "code",
        "outputId": "a59021f4-a324-4a9e-8267-1a2db5619f2f",
        "colab": {
          "base_uri": "https://localhost:8080/",
          "height": 310
        }
      },
      "source": [
        "!zip -r /content/s_test_tile.zip /content/s_test_tile_images\n",
        "\n",
        "# DOWNLOAD THE ZIPPED FILE AFTER RUNNING THIS"
      ],
      "execution_count": 0,
      "outputs": [
        {
          "output_type": "stream",
          "text": [
            "  adding: content/s_test_tile_images/ (stored 0%)\n",
            "  adding: content/s_test_tile_images/DJI_0094_tile15.png (deflated 0%)\n",
            "  adding: content/s_test_tile_images/DJI_0094_tile13.png (deflated 0%)\n",
            "  adding: content/s_test_tile_images/DJI_0094_tile14.png (deflated 0%)\n",
            "  adding: content/s_test_tile_images/DJI_0094_tile8.png (deflated 0%)\n",
            "  adding: content/s_test_tile_images/DJI_0094_tile4.png (deflated 0%)\n",
            "  adding: content/s_test_tile_images/DJI_0094_tile7.png (deflated 0%)\n",
            "  adding: content/s_test_tile_images/DJI_0094_tile11.png (deflated 0%)\n",
            "  adding: content/s_test_tile_images/DJI_0094_tile1.png (deflated 0%)\n",
            "  adding: content/s_test_tile_images/DJI_0094_tile10.png (deflated 0%)\n",
            "  adding: content/s_test_tile_images/DJI_0094_tile9.png (deflated 0%)\n",
            "  adding: content/s_test_tile_images/DJI_0094_tile5.png (deflated 0%)\n",
            "  adding: content/s_test_tile_images/DJI_0094_tile6.png (deflated 0%)\n",
            "  adding: content/s_test_tile_images/DJI_0094_tile3.png (deflated 0%)\n",
            "  adding: content/s_test_tile_images/DJI_0094_tile12.png (deflated 0%)\n",
            "  adding: content/s_test_tile_images/DJI_0094_tile17.png (deflated 0%)\n",
            "  adding: content/s_test_tile_images/DJI_0094_tile16.png (deflated 0%)\n",
            "  adding: content/s_test_tile_images/DJI_0094_tile2.png (deflated 0%)\n"
          ],
          "name": "stdout"
        }
      ]
    },
    {
      "cell_type": "markdown",
      "metadata": {
        "id": "Y2_TaQuZhxid",
        "colab_type": "text"
      },
      "source": [
        "#### Split hsv images and write s component"
      ]
    },
    {
      "cell_type": "code",
      "metadata": {
        "id": "bUblCYhbh2SY",
        "colab_type": "code",
        "colab": {}
      },
      "source": [
        "#apply filter to all images in folder\n",
        "path = \"/content/hsv_tile_images/*.*\"\n",
        "for number,image in enumerate(glob.glob(path),1):\n",
        "  h,s,v = cv2.split(hsv1)\n",
        "  s_path = \"/content/s_tile_images/\"\n",
        "  cv2.imwrite(s_path + \"DJI_0022_s_0{}.png\".format(number), s)\n",
        "  \n",
        "  cv2.waitKey(1000)\n",
        "  cv2.destroyAllWindows()"
      ],
      "execution_count": 0,
      "outputs": []
    },
    {
      "cell_type": "markdown",
      "metadata": {
        "id": "JT6SJanokPqM",
        "colab_type": "text"
      },
      "source": [
        "#### Zip folder images s"
      ]
    },
    {
      "cell_type": "code",
      "metadata": {
        "id": "J_8RZ_JBkS6z",
        "colab_type": "code",
        "outputId": "a5755332-0748-428f-ab2f-83f049ff1e72",
        "colab": {
          "base_uri": "https://localhost:8080/",
          "height": 245
        }
      },
      "source": [
        "!zip -r /content/s_tile.zip /content/s_tile_images\n",
        "\n",
        "# DOWNLOAD THE ZIPPED FILE AFTER RUNNING THIS"
      ],
      "execution_count": 0,
      "outputs": [
        {
          "output_type": "stream",
          "text": [
            "shell-init: error retrieving current directory: getcwd: cannot access parent directories: No such file or directory\n",
            "  adding: content/s_tile_images/ (stored 0%)\n",
            "  adding: content/s_tile_images/DJI_0022_s_09.png (deflated 0%)\n",
            "  adding: content/s_tile_images/DJI_0022_s_012.png (deflated 0%)\n",
            "  adding: content/s_tile_images/DJI_0022_s_05.png (deflated 0%)\n",
            "  adding: content/s_tile_images/DJI_0022_s_03.png (deflated 0%)\n",
            "  adding: content/s_tile_images/DJI_0022_s_010.png (deflated 0%)\n",
            "  adding: content/s_tile_images/DJI_0022_s_011.png (deflated 0%)\n",
            "  adding: content/s_tile_images/DJI_0022_s_02.png (deflated 0%)\n",
            "  adding: content/s_tile_images/DJI_0022_s_04.png (deflated 0%)\n",
            "  adding: content/s_tile_images/DJI_0022_s_06.png (deflated 0%)\n",
            "  adding: content/s_tile_images/DJI_0022_s_08.png (deflated 0%)\n",
            "  adding: content/s_tile_images/DJI_0022_s_07.png (deflated 0%)\n",
            "  adding: content/s_tile_images/DJI_0022_s_01.png (deflated 0%)\n"
          ],
          "name": "stdout"
        }
      ]
    }
  ]
}